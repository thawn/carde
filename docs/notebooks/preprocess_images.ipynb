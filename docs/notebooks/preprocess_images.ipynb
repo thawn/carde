{
 "cells": [
  {
   "cell_type": "markdown",
   "id": "bf18fdb0",
   "metadata": {},
   "source": [
    "# Removing the metadata from the image\n",
    "\n",
    "This notebook shows how the bar with the metadata at the bottom of the SEM images is removed."
   ]
  },
  {
   "cell_type": "code",
   "execution_count": 1,
   "id": "7765e63e-4298-4703-a5c0-bb83f2831117",
   "metadata": {
    "tags": []
   },
   "outputs": [],
   "source": [
    "from carde.image_processing import preprocess_images\n",
    "from skimage.io import imread\n",
    "import SimpleITK as sitk\n",
    "import stackview\n",
    "import numpy as np\n",
    "import carde"
   ]
  },
  {
   "cell_type": "code",
   "execution_count": 2,
   "id": "96c0679a",
   "metadata": {},
   "outputs": [],
   "source": [
    "image = imread(carde.io.local_data_path / '01-02/Original SEM Images/WD_06mm_001.tif')"
   ]
  },
  {
   "cell_type": "code",
   "execution_count": 3,
   "id": "e2e08b33",
   "metadata": {},
   "outputs": [],
   "source": [
    "image = imread(carde.io.local_data_path / \"21-22/Original SEM Images/WD6mm_21.tif\")"
   ]
  },
  {
   "cell_type": "code",
   "execution_count": 4,
   "id": "f5e48783",
   "metadata": {},
   "outputs": [
    {
     "data": {
      "text/html": [
       "<table>\n",
       "<tr>\n",
       "<td>\n",
       "<img src=\"data:image/png;base64,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\"></img>\n",
       "</td>\n",
       "<td style=\"text-align: center; vertical-align: top;\">\n",
       "\n",
       "<table>\n",
       "<tr><td>shape</td><td>(1536,&nbsp;2048)</td></tr>\n",
       "<tr><td>dtype</td><td>uint32</td></tr>\n",
       "<tr><td>size</td><td>12.0 MB</td></tr>\n",
       "<tr><td>min</td><td>0</td></tr><tr><td>max</td><td>1</td></tr><tr><td>n labels</td><td>1</td></tr>\n",
       "</table>\n",
       "\n",
       "</td>\n",
       "</tr>\n",
       "</table>"
      ],
      "text/plain": [
       "[[0 0 0 ... 0 0 0]\n",
       " [0 0 0 ... 0 0 0]\n",
       " [0 0 0 ... 0 0 0]\n",
       " ...\n",
       " [0 0 0 ... 0 0 0]\n",
       " [0 0 0 ... 0 0 0]\n",
       " [0 0 0 ... 0 0 0]]"
      ]
     },
     "execution_count": 4,
     "metadata": {},
     "output_type": "execute_result"
    }
   ],
   "source": [
    "mask = sitk.OtsuThreshold(sitk.GetImageFromArray(image), 0, 1)\n",
    "mask = sitk.ConnectedComponent(mask)\n",
    "mask = sitk.RelabelComponent(mask, minimumObjectSize=10*image.shape[1])\n",
    "\n",
    "stackview.insight(sitk.GetArrayViewFromImage(mask))"
   ]
  },
  {
   "cell_type": "code",
   "execution_count": 5,
   "id": "cddced60",
   "metadata": {},
   "outputs": [
    {
     "data": {
      "text/plain": [
       "1"
      ]
     },
     "execution_count": 5,
     "metadata": {},
     "output_type": "execute_result"
    }
   ],
   "source": [
    "label_stats = sitk.LabelShapeStatisticsImageFilter()\n",
    "label_stats.Execute(mask)\n",
    "\n",
    "largest_label = 0\n",
    "largest_label_size = 0\n",
    "for label in label_stats.GetLabels():\n",
    "    if label_stats.GetNumberOfPixels(label) > largest_label_size:\n",
    "        largest_label = label\n",
    "        largest_label_size = label_stats.GetNumberOfPixels(label)\n",
    "largest_label"
   ]
  },
  {
   "cell_type": "code",
   "execution_count": 6,
   "id": "cbf95da8",
   "metadata": {},
   "outputs": [
    {
     "data": {
      "text/plain": [
       "228711"
      ]
     },
     "execution_count": 6,
     "metadata": {},
     "output_type": "execute_result"
    }
   ],
   "source": [
    "label_stats.GetNumberOfPixels(largest_label)"
   ]
  },
  {
   "cell_type": "code",
   "execution_count": 7,
   "id": "d975496e",
   "metadata": {},
   "outputs": [
    {
     "data": {
      "text/html": [
       "<table>\n",
       "<tr>\n",
       "<td>\n",
       "<img src=\"data:image/png;base64,iVBORw0KGgoAAAANSUhEUgAAAoAAAAHgCAYAAAA10dzkAAAAOnRFWHRTb2Z0d2FyZQBNYXRwbG90bGliIHZlcnNpb24zLjEwLjMsIGh0dHBzOi8vbWF0cGxvdGxpYi5vcmcvZiW1igAAAAlwSFlzAAAPYQAAD2EBqD+naQAAHeVJREFUeJzt3X+s1XX9B/D3BQN0CtpISMZGv80pYCCE5pobyZaz+UcbaRPG1GZrzmQt0RQsS/qlo02Mabr6h0G1ci0Zzliummwk5MpNbYYFc/FrJRgmJNA+n773fu+9nnPf55zP+XHv+/14bGdwPnw+n/M559x77vO+Xu/3m75Tp06dCgAAZGNcry8AAIDuEgABADIjAAIAZEYABADIjAAIAJAZARAAIDMCIABAZgRAAIDMCIAAAJkRAAEAMiMAAgBkRgAEAMiMAAgAkBkBEAAgMwIgAEBmBEAAgMwIgAAAmREAAQAyIwACAGRGAAQAyIwACACQGQEQACAzAiAAQGYEQACAzAiAAACZEQABADIjAAIAZEYABADIjAAIAJAZARAAIDMCIABAZgRAAIDMCIAAAJkRAAEAMiMAAgBkRgAEAMiMAAgAkBkBEAAgMwIgAEBmBEAAgMwIgAAAmREAAQAyIwACAGRGAAQAyIwACACQGQEQACAzAiAAQGYEQACAzAiAAACZEQABADIjAAIAZEYABADIjAAIAFTym9/8Jlx99dXhvPPOC319feHxxx+PHvP000+Hj3zkI2HixInh/e9/f/jhD3/YlWvlfwRAAKCSo0ePhjlz5oT169c3tP8rr7wSrrrqqnDFFVeE5557Lnzxi18MN954Y3jyySc7fq38T9+pU6dO/d/fAQAqKSqAP//5z8M111xTd5/bb789PPHEE+H5558f2PaZz3wmvPbaa2Hr1q1dutK8qQACAF21ffv2sHjx4iHblixZUm6nO07r0uMAAF3w5ptvhuPHj1c+T9EgLKp5gxXj9YpbVfv27QvTpk0bsq24f+TIkfDvf/87nH766ZUfg5EJgACQUPh7z3veUwasqs4888zwr3/9a8i2NWvWhHvuuafyuek9ARAAElFU/orwt3fv3jB58uSWz1NU4mbOnPm287Sj+leYPn162L9//5Btxf3isVT/ukMABIDEnHXWWeWtVf3zQ4tAViVI1rNo0aKwZcuWIdueeuqpcjvdYRIIAFBJ0SoulnMpbv3LvBR/37NnT3n/jjvuCMuWLRvY/+abbw67d+8OX/7yl8OLL74YHnroofDjH/843HbbbT17DrkRAAGASp599tlw8cUXl7fCypUry7+vXr26vP/3v/99IAwWinGKxTIwRdWvWD/w/vvvDz/4wQ/KmcB0h3UAASARxdi9KVOmhH/+85+VxwCec8454fDhwx1pAdN7KoAAAJkRAAEAMmMWMAAkphjdVWWEl9Fh6VMBBADIjAAIAJAZLWAASIwWMDEqgAAAmREAAQAyowUMAInRAiZGBRAAIDMCIABAZrSAASAxWsDEqAACAGRGAAQAyIwWMAAkRguYGBVAAIDMCIAAAJnRAgaAxGgBE6MCCACQGQEQACAzAiAAQGaMAQSAxBgDSIwKIABAZgRAAIDMaAEDQGK0gIlRAQQAyIwACACQGS1gAEiMFjAxKoAAAJkRAAEAMqMFXFFfX1+vLwGAMaJbrVUtYGJUAAEAMiMAAgBkRgsYABKjBUyMCiAAQGZUAAEgMSqAxKgAAgBkRgAEAMiMFjAAJEYLmBgVQACAzAiAAACZ0QIGgMRoAROjAggAkBkVQABIjAogMSqAAACZEQABADKjBQwAidECJkYABIAECXGMRAsYACAzAiAAQGa0gAEgMcYAEiMAAkBiBEBitIABADKjAggAiVEBJEYFEAAgMwIgAEBmtIABIDFawMQIgACQGAGQGC1gAIDMCIAAAJnRAgaAxGgBEyMAAkBiBEBitIABADIjAAJAohXAKrdWrF+/PsyaNStMmjQpLFy4MOzYsWPE/detWxc+9KEPhdNPPz3MnDkz3HbbbeHNN99s8VnTDAEQAKhs8+bNYeXKlWHNmjVh165dYc6cOWHJkiXhwIEDNfffuHFjWLVqVbn/Cy+8EB599NHyHHfeeWfXrz1HAiAAUNkDDzwQbrrpprBixYpwwQUXhA0bNoQzzjgjPPbYYzX3f+aZZ8Jll10WrrvuurJqeOWVV4Zrr702WjWkPQRAAEhMt1vAx48fDzt37gyLFy8e2DZu3Ljy/vbt22sec+mll5bH9Ae+3bt3hy1btoRPfvKTFZ89jTALGAAS065ZwEeOHBmyfeLEieVtuEOHDoUTJ06EadOmDdle3H/xxRdrPkZR+SuO+9jHPlY+3ltvvRVuvvlmLeAuUQEEAGoqJmZMmTJl4LZ27dq2nfvpp58O9913X3jooYfKMYM/+9nPwhNPPBHuvffetj0G9akAAkBi2lUB3Lt3b5g8efLA9lrVv8LUqVPD+PHjw/79+4dsL+5Pnz695jF33313uP7668ONN95Y3r/ooovC0aNHw+c+97nwla98pWwh0zleXQCgpiL8Db7VC4ATJkwI8+bNC9u2bRvYdvLkyfL+okWLah7zxhtvvC3kFSGyYCHqzlMBBAAqK5aAWb58eZg/f35YsGBBucZfUdErZgUXli1bFmbMmDHQRr766qvLmcMXX3xxuWbgyy+/XFYFi+39QZDOEQABIDG9+K/gli5dGg4ePBhWr14d9u3bF+bOnRu2bt06MDFkz549Qyp+d911V+jr6yv/fPXVV8O73vWuMvx94xvfaPm6aVzfKXXWSoovXgBoRKd/5BazdovJGn/84x/DWWed1fJ5Xn/99TB79uxw+PDhIWMASYcxgAAAmREAAQAyYwwgACSmF2MAGVsEQABIjABIjBYwAEBmVAABIDEqgMSoAAIAZEYABADIjBYwACRGC5gYARAAEiTEMRItYACAzAiAAACZ0QIGgMQYA0iMAAgAiREAidECBgDIjAogACRGBZAYARAAEiMAEqMFDACQGRVAAEiMCiAxAiAAJEYAJEYLGAAgMwIgAEBmtIABIDFawMSoAAIAZEYFEAASowJIjAAIAIkRAIkRAAEgMQIgMcYAAgBkRgUQABKjAkiMAAgAiREAidECBgDIjAogACRGBZAYARAAEiMAEqMFDACQGQEQACAzWsAAkBgtYGJUAAEAMqMCCACJUQEkRgAEgMQIgMQIgACQICGOkRgDCACQGRVAAEiMFjAxAiAAJEYAJEYLGAAgMyqAAJAYFUBiVAABADIjAAIAZEYLGAASowVMjAAIAIkRAInRAgYAyIwKIAAkRgWQGAEQABIjABIjAAJAYgRAYowBBADIjAogACRGBZAYARAAEiMAEqMFDACQGQEQACAzWsAAkBgtYGJUAAEAMqMCCACJOXnyZHmrcjxpEwABIDFawMRoAQMAZEYABIBEK4BVbq1Yv359mDVrVpg0aVJYuHBh2LFjx4j7v/baa+ELX/hCePe73x0mTpwYPvjBD4YtW7a0+KxphhYwACSmFy3gzZs3h5UrV4YNGzaU4W/dunVhyZIl4aWXXgrnnnvu2/Y/fvx4+MQnPlH+209/+tMwY8aM8Le//S2cffbZLV83jRMAASAxRYCrMpGjlQD4wAMPhJtuuimsWLGivF8EwSeeeCI89thjYdWqVW/bv9j+j3/8IzzzzDPhHe94R7mtqB7SHVrAAEBNR44cGXI7duxYzf2Kat7OnTvD4sWLB7aNGzeuvL99+/aax/ziF78IixYtKlvA06ZNCxdeeGG47777wokTJzr2fPh/AiAAJKZdYwBnzpwZpkyZMnBbu3Ztzcc7dOhQGdyKIDdYcX/fvn01j9m9e3fZ+i2OK8b93X333eH+++8PX//61zvwijCcFjAAJKZdYwD37t0bJk+ePLC9mKjRLkWLuhj/9/DDD4fx48eHefPmhVdffTV85zvfCWvWrGnb41CbAAgA1FSEv8EBsJ6pU6eWIW7//v1Dthf3p0+fXvOYYuZvMfavOK7fhz/84bJiWLSUJ0yY0IZnQD1awACQmG4vA1OEtaKCt23btiEVvuJ+Mc6vlssuuyy8/PLLQyar/PnPfy6DofDXeQIgACSmF+sAFkvAPPLII+FHP/pReOGFF8LnP//5cPTo0YFZwcuWLQt33HHHwP7FvxezgG+99dYy+BUzhotJIMWkEDpPCxgAqGzp0qXh4MGDYfXq1WUbd+7cuWHr1q0DE0P27NlTzgzuV0wwefLJJ8Ntt90WZs+eXa4DWITB22+/vYfPIh99p/yHf5X09fX1+hIAGCM6/SO3WKqlmK27cePGcMYZZ7R8njfeeCNcd9114fDhww2NAWTsUQEEgMT04n8CYWwxBhAAIDMqgACQGBVAYgRAAEiMAEiMAAgAiSnW1hu8vl4rx5M2YwABADKjAggAidECJkYABIDECIDEaAEDAGRGBRAAEqMCSIwACACJEQCJ0QIGAMiMCiAAJMY6gMQIgACQGC1gYrSAAQAyowIIAAlSxWMkAiAAJEYLmBgBEAASYxIIMcYAAgBkRgUQABKjBUyMAAgAiREAidECBgDIjAogACRGBZAYARAAEiMAEqMFDACQGRVAAEiMdQCJEQABIDFawMRoAQMAZEYFEAASowJIjAAIAIkRAIkRAAEgMSaBEGMMIABAZlQAASAxWsDECIAAkBgBkBgtYACAzKgAAkBiVACJEQABIEFCHCPRAgYAyIwKIAAkRguYGAEQABIjABKjBQwAkBkVQABIjAogMQIgACRGACRGAASAxAiAxBgDCACQGRVAAEjMyZMny1uV40mbAAgAidECJkYLGAAgMyqAAJAYFUBiBEAASIwASIwWMABAZlQAASAxKoDECIAAkBgBkBgtYACAzKgAAkBiVACJEQABIDECIDECIAAkRgAkxhhAAIDMqAACQGJUAIkRAAEgMUWAO3nyZKXjSZsWMABAZlQAASAxWsDECIAAkBgBkBgtYACgLdavXx9mzZoVJk2aFBYuXBh27NjR0HGbNm0KfX194Zprrun4NfI/AiAAJFoBrHJr1ubNm8PKlSvDmjVrwq5du8KcOXPCkiVLwoEDB0Y87q9//Wv40pe+FC6//PIKz5hmCYAAkJheBMAHHngg3HTTTWHFihXhggsuCBs2bAhnnHFGeOyxx+oec+LEifDZz342fPWrXw3vfe97Kz5rmiEAAkBi2hUAjxw5MuR27Nixmo93/PjxsHPnzrB48eKBbePGjSvvb9++ve51fu1rXwvnnntuuOGGGzrwKjASARAAqGnmzJlhypQpA7e1a9fW3O/QoUNlNW/atGlDthf39+3bV/OY3/3ud+HRRx8NjzzySEeunZGZBQwAiWnXLOC9e/eGyZMnD2yfOHFiW67v9ddfD9dff30Z/qZOndqWc9IcARAAEtOuAFiEv8EBsJ4ixI0fPz7s379/yPbi/vTp09+2/1/+8pdy8sfVV189sK3/fy457bTTwksvvRTe9773tXz9xGkBAwCVTJgwIcybNy9s27ZtSKAr7i9atOht+59//vnhT3/6U3juuecGbp/61KfCFVdcUf69aD3TWSqAAJCYXiwEXSwBs3z58jB//vywYMGCsG7dunD06NFyVnBh2bJlYcaMGeU4wmKdwAsvvHDI8WeffXb55/DtdIYACACJ6UUAXLp0aTh48GBYvXp1OfFj7ty5YevWrQMTQ/bs2VPODGZ06Dvl/3uppFi5HAAa0ekfucVSLcVs3VtvvbXShI1iuZfvfe974fDhww2NAWTsUQEEgMT4v4CJEQABIDHFBIz+WbWtHk/aNOMBADKjAggAidECJkYABIDECIDECIAAkBgBkBhjAAEAMqMCCACJUQEkRgAEgMQIgMRoAQMAZEYFEAASpIrHSARAAEiMFjAxWsAAAJlRAQSAxKgAEiMAAkBiBEBitIABADKjAggAiVEBJEYABIDECIDECIAAkBgBkBhjAAEAMqMCCACJUQEkRgAEgMQIgMRoAQMAZEYFEAASowJIjAAIAIkRAInRAgYAyIwKIAAkRgWQGAEQABIjABKjBQwAkBkVQABIjAogMQIgACRGACRGAASAxAiAxBgDCACQGRVAAEiMCiAxAiAAJEYAJEYLGAAgMyqAAJAgVTxGIgACQGK0gInRAgYAyIwKIAAk5uTJk+WtyvGkTQAEgMRoAROjBQwAkBkVQABIjAogMQIgACRGACRGAASAxAiAxBgDCACQGRVAAEiMCiAxAiAAJEYAJEYLGAAgMyqAAJAYFUBiBEAASIwASIwWMABAZlQAASAxJ0+eLG9VjidtAiAAJEYLmBgtYACAzKgAAkBitICJEQABIDFawMQIgACQmCLAVaniCYDpMwYQACAzKoAAkBgtYGIEQABIjABIjBYwAEBmVAABIDGWgSFGBRAAEm0BV7m1Yv369WHWrFlh0qRJYeHChWHHjh11933kkUfC5ZdfHs4555zytnjx4hH3p70EQACgss2bN4eVK1eGNWvWhF27doU5c+aEJUuWhAMHDtTc/+mnnw7XXntt+PWvfx22b98eZs6cGa688srw6quvdv3ac9R3ykjPSvr6+np9CQCMEZ3+kXvkyJEwZcqUsrJ22mmtj/J66623wm9/+9tw+PDhMHny5IaOKSp+l1xySXjwwQcH2shFqLvlllvCqlWrosefOHGirAQWxy9btqzla6cxKoAAkJh2tYCLQDn4duzYsZqPd/z48bBz586yjdtv3Lhx5f2iuteIN954I/znP/8J73znO9v0KjASARAAqKmo4BUVxf7b2rVra+536NChsoI3bdq0IduL+/v27WvosW6//fZw3nnnDQmRdI5ZwACQmHatA7h3794hLeCJEyeGTvjmN78ZNm3aVI4LLCaQ0HkCIAAkpl3LwBThr5ExgFOnTg3jx48P+/fvH7K9uD99+vQRj/3ud79bBsBf/epXYfbs2S1fM83RAgaAxHR7GZgJEyaEefPmhW3btg0JkcX9RYsW1T3u29/+drj33nvD1q1bw/z58ys9Z5qjAggAVFYsAbN8+fIyyC1YsCCsW7cuHD16NKxYsaL892Jm74wZMwbGEX7rW98Kq1evDhs3bizXDuwfK3jmmWeWNzpLAASAxPTifwJZunRpOHjwYBnqijA3d+7csrLXPzFkz5495czgft///vfL2cOf/vSnh5ynWEfwnnvuafnaaYx1ACuyDiAAo20dwGI9vqrrAP7+979vah1AxhZjAAEAMqMFDACJadcyMKRLAASAxBQBrsoYQAEwfVrAAACZUQEEgMRoARMjAAJAYor2b5VVKqq0jxkbBMCK/JYEQCMsG8ZoIgACQGK0gIkRABP4jdI3KkDvK3ij6bNYC5gYAbCHBn9ztvLBoZ1Ar772Gjl/M+ett38vf8EZ/tidvJZaj1UY/njDt4+03+B9mv33qs+lX3He2NdavefQ6PmHn6NTX9uNfN6Opl/IVQCJsQxMjwz/MCnuNxvoYt+g/eer92eOBj/3Vl6H4cfXet+Gbx9pv3ZeWys/HIb/wKS7QXn4Y9S6X+WYWCDpRGAZ/LU1+H69x6/192bOP/y44f/ezLnraeZ430+MFSqAHVbvt+9m9q9q+Pn8ZldfrR8m3XjMbr8ngysm9X5QxipyI1XtRvr32HX1h9KRzt1/fcP3jx3f7grd4OsYfL/WfsP/rd7xI11DlWuu9Zid/Lobfv5GPwcbfQ+buf4qz7PVXxR7/TmrAkiMANhB9T44Yj/YRsOHR64Vm14EscGVkm5dR6utzSoVw26F63Z+/8QCVKvHd0svKoC1ztvK4/Tiums9TpVje/n+GwNIjBbwKNFMlTCmlXZyKmq1f0az4UGiW+9du0JcrX+v9x4M3l61MjHS8e1ua7djuEY7tBKg6r0W3RzPONL1xc7Tyvnb9d604zy5fg4zNqgAdkgr3/it/OCq11JqdN/U9KKFW3UwfS9a9IO/1oZXHhttHXZrUPzwdnUvWpu1XqNOaeT8zTy/4a/J8KpzJ16v4V9bzbxfI11vrfPXOketr+1e6VUlUAuYGAFwlBn84d/rFsJYFHu9qrZZRzq+3g+7ZgJ5N9/vVsfvjfRDvdUwO/ycjT5GJ9vnzTzPqsGw1a+ZVvbr9C8c7Wj1Nnu93Rw+MVZoAROjBdwBnS77j6a2wmi6FvJroY8WsUoXwGijAggAidECJkYABIDECIDEaAF3gG8cRotai1C3e3Zjt2ZdtrJgclXNLLjcyH65aPX1aPd+QH0qgB0mDHZfozMIW32PxurknEavu5H9OvH8Y7M/a81A7vR70chjDt/ezUlcvZj13ko4qzfbODYDuNZ+Y/X7r9tMAiFGAOywZj+sqi5kTP1lTRp5Lxr9gdrM+1rvB2Kzj9lutZZzGWm5jXrHD9+33v6NXs/wc/VCJ74PR/qaaeZrtNY11tveq+VHGl0iqJlz1jq/z8iReX0YiQDYIa1UAnr9wZ2Sdq3JN9I+jVQ06p233lpsnQg+zSxDM/waB/+96vIhsaAbe/69qvx043F7vRTLWKo+d+v5tev7sVfvhTGAxAiAXdKt1et5+2veqSU6Uv+AbKTS0moVp9n9uh3+OhXGc9TKL0WtnG80GivXSZ5MAumgWh9ww2/922mv2Li/KkZ6/8biB/7wgNxM+Km1AG+rbdx6P9gHv86N/g8TnXpdaj1mo/sNfi7tvL5690eDWu9dbP/Y52I3w3mVKlqv34/+a69yI20qgB3WSFur1jFUVyucDP971fM2cr5Gqh/drFK2+3ra9To326ruVhuwlWtp9Zrb8ZqNhs+PVr6em/m+Gg3PcSSj4fq0gIkRALtg8DfS4ApGqwOZR9M35mi6FhjNfK+MXc1Utb3PjBUCYJf1B7+xNI4FgLjR9JledRkXy8CkTwDM/EMCgPQ+u7WAiTEJBAAgMyqAFZnBC8BoowJIjABYkW8SAEYbAZAYLWAAgMyoAAJAYlQAiREAASAxAiAxAiAAJMY6gMQYAwgAkBkVQABIjBYwMQIgACRGACRGCxgAIDMqgACQGBVAYgRAAEiMAEiMFjAAQGZUAAEgMSqAxAiAAJCYIsBVWcxZAEyfFjAAQGZUAAEgMVUreCqA6RMAASAxAiAxAiAAJEYAJMYYQACAzKgAAkBiVACJEQABIDECIDFawAAAmVEBBIDEFItA9/X1tXy8CmD6BEAASIwWMDFawAAAmVEBBIDEqAASIwACQGIEQGK0gAEAMqMCCACJUQEkRgAEgMQIgMQIgACQGOsAEmMMIABAZgRAAEhMUcGremvF+vXrw6xZs8KkSZPCwoULw44dO0bc/yc/+Uk4//zzy/0vuuiisGXLlhafMc0SAAEgMb0IgJs3bw4rV64Ma9asCbt27Qpz5swJS5YsCQcOHKi5/zPPPBOuvfbacMMNN4Q//OEP4Zprrilvzz//fBteAWL6Tmn0A0ASjhw5EqZMmVL+vR1jAA8fPhwmT57c0DFFxe+SSy4JDz744MA4xJkzZ4ZbbrklrFq16m37L126NBw9ejT88pe/HNj20Y9+NMydOzds2LCh5WunMSqAAJCgdlT/ikA5+Hbs2LGaj3X8+PGwc+fOsHjx4oFt48aNK+9v37695jHF9sH7F4qKYb39aS8BEAASMWHChDB9+vS2nOvMM88sK3hFRbH/tnbt2pr7Hjp0KJw4cSJMmzZtyPbi/r59+2oeU2xvZn/ayzIwAJCIYjLFK6+8UlbkqioqgcPbyBMnTqx8XkYHARAAEguBxa2bpk6dGsaPHx/2798/ZHtxv15FstjezP60lxYwAFC59Txv3rywbdu2gW3FJJDi/qJFi2oeU2wfvH/hqaeeqrs/7aUCCABUViwBs3z58jB//vywYMGCsG7dunKW74oVK8p/X7ZsWZgxY8bAOMJbb701fPzjHw/3339/uOqqq8KmTZvCs88+Gx5++OEeP5M8CIAAQGXFsi4HDx4Mq1evLidyFMu5bN26dWCix549e8qZwf0uvfTSsHHjxnDXXXeFO++8M3zgAx8Ijz/+eLjwwgt7+CzyYR1AAIDMGAMIAJAZARAAIDMCIABAZgRAAIDMCIAAAJkRAAEAMiMAAgBkRgAEAMiMAAgAkBkBEAAgMwIgAEBmBEAAgMwIgAAAmREAAQAyIwACAGRGAAQAyIwACACQGQEQACAzAiAAQGYEQACAzAiAAACZEQABADIjAAIAZEYABADIjAAIAJAZARAAIDMCIABAZgRAAIDMCIAAAJkRAAEAMiMAAgBkRgAEAMiMAAgAkBkBEAAgMwIgAEBmBEAAgMwIgAAAmREAAQAyIwACAGRGAAQAyIwACACQGQEQACAzAiAAQGYEQACAzAiAAACZEQABAEJe/gu0kBkOHfN9XQAAAABJRU5ErkJggg==\"></img>\n",
       "</td>\n",
       "<td style=\"text-align: center; vertical-align: top;\">\n",
       "\n",
       "<table>\n",
       "<tr><td>shape</td><td>(1536,&nbsp;2048)</td></tr>\n",
       "<tr><td>dtype</td><td>uint8</td></tr>\n",
       "<tr><td>size</td><td>3.0 MB</td></tr>\n",
       "<tr><td>min</td><td>0</td></tr><tr><td>max</td><td>1</td></tr>\n",
       "</table>\n",
       "<img src=\"data:image/png;base64,iVBORw0KGgoAAAANSUhEUgAAALQAAAB4CAYAAABb59j9AAAAOnRFWHRTb2Z0d2FyZQBNYXRwbG90bGliIHZlcnNpb24zLjEwLjMsIGh0dHBzOi8vbWF0cGxvdGxpYi5vcmcvZiW1igAAAAlwSFlzAAAPYQAAD2EBqD+naQAAAjZJREFUeJzt2FFqGkEAgOFZyas5gCjkPrlQjpAL5T4BgwdQKPTFLQkYWpqWQrNEfr7vxdWFmYH9GWad5nmeB0SsvnoB8JkETYqgSRE0KYImRdCkCJoUQZMiaFIETYqgSRE0KTdLDXw+n8fhcBjr9XpM07TUNATM8zxOp9PYbDZjtVpdZ9CvMe92u6WGJ2i/34/tdnudQb/uzJdF3t7eLjUNAcfj8W3zuzRzlUFfjhmvMQuaf/EZR1MvhaQImpTFjhx/c/fw9H79/Hj/FUsgyg5NiqBJETQpgiZF0KQImhRBkyJoUgRNiqBJETQpgiZF0KQImhRBkyJoUgRNiqBJETQpgiZF0KQImhRBkyJoUgRNiqBJETQpgiZF0KQImhRBkyJoUgRNiqBJETQpgiZF0KQImhRBkyJoUgRNiqBJETQpgiZF0KQImhRBkyJoUgRNiqBJETQpgiZF0KQImhRBkyJoUgRNiqBJETQpgiZF0KQImhRBkyJoUgRNiqBJETQpgiZF0KQImhRBkyJoUgRNiqBJETQpgiZF0KQImhRBkyJoUm6+egG03T08/fL9+fF+0fns0KQImhRBkyJoUgRNymL/cszz/PZ5PB5/u3f+/u39+qP7dJx/etZ/et6X3y7N/I9p/oxRPvDy8jJ2u90SQxO13+/Hdru9zqDP5/M4HA5jvV6PaZqWmIKIeZ7H6XQam81mrFar6wwavoKXQlIETYqgSRE0KYImRdCkCJoUQZMiaFIEzSj5AQBFWMX8+aXnAAAAAElFTkSuQmCC\"></img>\n",
       "</td>\n",
       "</tr>\n",
       "</table>"
      ],
      "text/plain": [
       "[[0 0 0 ... 0 0 0]\n",
       " [0 0 0 ... 0 0 0]\n",
       " [0 0 0 ... 0 0 0]\n",
       " ...\n",
       " [0 0 0 ... 0 0 0]\n",
       " [0 0 0 ... 0 0 0]\n",
       " [0 0 0 ... 0 0 0]]"
      ]
     },
     "execution_count": 7,
     "metadata": {},
     "output_type": "execute_result"
    }
   ],
   "source": [
    "mask = sitk.BinaryThreshold(mask, largest_label, largest_label, 1, 0)\n",
    "\n",
    "stackview.insight(sitk.GetArrayViewFromImage(mask))"
   ]
  },
  {
   "cell_type": "code",
   "execution_count": 8,
   "id": "4808bd34",
   "metadata": {},
   "outputs": [
    {
     "data": {
      "text/plain": [
       "np.int64(1404)"
      ]
     },
     "execution_count": 8,
     "metadata": {},
     "output_type": "execute_result"
    }
   ],
   "source": [
    "mask = sitk.GetArrayFromImage(mask)\n",
    "last_line = min(np.where(mask)[0]) - 1\n",
    "last_line"
   ]
  },
  {
   "cell_type": "code",
   "execution_count": 9,
   "id": "84bf713e-fe72-485a-9fec-e8a26da8386f",
   "metadata": {
    "tags": []
   },
   "outputs": [
    {
     "name": "stdout",
     "output_type": "stream",
     "text": [
      "Preprocessed WD_06mm_001.tif\n",
      "Preprocessed WD_06mm_002.tif\n",
      "Preprocessed WD_06mm_003.tif\n",
      "Preprocessed WD_06mm_004.tif\n",
      "Preprocessed WD_06mm_005.tif\n",
      "Preprocessed WD_06mm_006.tif\n",
      "Preprocessed WD_06mm_007.tif\n",
      "Preprocessed WD_06mm_008.tif\n",
      "Preprocessed WD_06mm_009.tif\n",
      "Preprocessed WD_06mm_010.tif\n",
      "Preprocessed WD_06mm_011.tif\n",
      "Preprocessed WD_06mm_012.tif\n",
      "Preprocessed WD_06mm_013.tif\n",
      "Preprocessed WD_06mm_014.tif\n",
      "Preprocessed WD_06mm_015.tif\n",
      "Preprocessed WD_06mm_016.tif\n",
      "Preprocessed WD6mm_21.tif\n",
      "Preprocessed WD6mm_22.tif\n",
      "Preprocessed WD6mm_23.tif\n",
      "Preprocessed WD6mm_24.tif\n",
      "Preprocessed WD6mm_25.tif\n",
      "Preprocessed WD6mm_26.tif\n",
      "Preprocessed WD6mm_27.tif\n",
      "Preprocessed WD6mm_28.tif\n",
      "Preprocessed WD6mm_47.tif\n",
      "Preprocessed WD6mm_48.tif\n"
     ]
    }
   ],
   "source": [
    "preprocess_images()"
   ]
  },
  {
   "cell_type": "code",
   "execution_count": null,
   "id": "657e5a1f",
   "metadata": {},
   "outputs": [],
   "source": []
  }
 ],
 "metadata": {
  "kernelspec": {
   "display_name": "carde-env",
   "language": "python",
   "name": "python3"
  },
  "language_info": {
   "codemirror_mode": {
    "name": "ipython",
    "version": 3
   },
   "file_extension": ".py",
   "mimetype": "text/x-python",
   "name": "python",
   "nbconvert_exporter": "python",
   "pygments_lexer": "ipython3",
   "version": "3.12.11"
  }
 },
 "nbformat": 4,
 "nbformat_minor": 5
}
